{
 "cells": [
  {
   "cell_type": "code",
   "execution_count": 4,
   "id": "ccdbe5b5",
   "metadata": {},
   "outputs": [],
   "source": [
    "import psycopg2\n",
    "import pandas as pd\n",
    "conn=psycopg2.connect(\n",
    "    host=\"localhost\",\n",
    "    database=\"Amazon\",\n",
    "    user=\"postgres\",\n",
    "    password=\"vit@123\"\n",
    ")"
   ]
  },
  {
   "cell_type": "markdown",
   "id": "a74e8d43",
   "metadata": {},
   "source": [
    "Average discounted price per Category"
   ]
  },
  {
   "cell_type": "code",
   "execution_count": 14,
   "id": "9e027c61",
   "metadata": {},
   "outputs": [
    {
     "name": "stdout",
     "output_type": "stream",
     "text": [
      "                                              category           avg\n",
      "0    Home&Kitchen|Heating,Cooling&AirQuality|AirCon...  42990.000000\n",
      "1     Computers&Accessories|Laptops|TraditionalLaptops  37247.000000\n",
      "2                        Computers&Accessories|Tablets  26999.000000\n",
      "3    Electronics|HomeTheater,TV&Video|Televisions|S...  24840.190476\n",
      "4    Home&Kitchen|Kitchen&HomeAppliances|Vacuum,Cle...  23449.500000\n",
      "..                                                 ...           ...\n",
      "206  Home&Kitchen|CraftMaterials|DrawingMaterials|D...     99.000000\n",
      "207  OfficeProducts|OfficePaperProducts|Paper|Stati...     95.000000\n",
      "208  Home&Kitchen|CraftMaterials|DrawingMaterials|D...     90.000000\n",
      "209  Electronics|Mobiles&Accessories|MobileAccessor...     89.000000\n",
      "210  Computers&Accessories|Accessories&Peripherals|...     77.000000\n",
      "\n",
      "[211 rows x 2 columns]\n"
     ]
    },
    {
     "name": "stderr",
     "output_type": "stream",
     "text": [
      "C:\\Users\\anshi\\AppData\\Local\\Temp\\ipykernel_123364\\3551114351.py:6: UserWarning: pandas only supports SQLAlchemy connectable (engine/connection) or database string URI or sqlite3 DBAPI2 connection. Other DBAPI2 objects are not tested. Please consider using SQLAlchemy.\n",
      "  df=pd.read_sql(query,conn)\n"
     ]
    }
   ],
   "source": [
    "query = \"\"\"SELECT Category, AVG(CAST(discounted_price AS FLOAT)) AS avg\n",
    "FROM amazon_sales\n",
    "GROUP BY Category\n",
    "ORDER BY avg DESC;\"\"\"\n",
    "\n",
    "df=pd.read_sql(query,conn)\n",
    "conn.close()\n",
    "print(df)"
   ]
  },
  {
   "cell_type": "markdown",
   "id": "bef79dae",
   "metadata": {},
   "source": [
    "Average discount percentage per category"
   ]
  },
  {
   "cell_type": "code",
   "execution_count": 2,
   "id": "710a2b43",
   "metadata": {},
   "outputs": [
    {
     "name": "stdout",
     "output_type": "stream",
     "text": [
      "                                              category  avg_discount\n",
      "0    Electronics|Mobiles&Accessories|MobileAccessor...          90.0\n",
      "1    Electronics|Headphones,Earbuds&Accessories|Ear...          90.0\n",
      "2    Computers&Accessories|Accessories&Peripherals|...          90.0\n",
      "3    Electronics|Headphones,Earbuds&Accessories|Ada...          88.0\n",
      "4    Computers&Accessories|Accessories&Peripherals|...          87.5\n",
      "..                                                 ...           ...\n",
      "206  OfficeProducts|OfficePaperProducts|Paper|Stati...           0.0\n",
      "207  Electronics|HomeAudio|MediaStreamingDevices|St...           0.0\n",
      "208  Toys&Games|Arts&Crafts|Drawing&PaintingSupplie...           0.0\n",
      "209   Electronics|Cameras&Photography|Accessories|Film           0.0\n",
      "210  Home&Kitchen|CraftMaterials|DrawingMaterials|D...           0.0\n",
      "\n",
      "[211 rows x 2 columns]\n"
     ]
    },
    {
     "name": "stderr",
     "output_type": "stream",
     "text": [
      "C:\\Users\\anshi\\AppData\\Local\\Temp\\ipykernel_184924\\2012215801.py:5: UserWarning: pandas only supports SQLAlchemy connectable (engine/connection) or database string URI or sqlite3 DBAPI2 connection. Other DBAPI2 objects are not tested. Please consider using SQLAlchemy.\n",
      "  df=pd.read_sql(query,conn)\n"
     ]
    }
   ],
   "source": [
    "query=\"\"\"SELECT category, AVG(CAST(discount_percentage AS FLOAT)) AS avg_discount\n",
    "FROM amazon_sales\n",
    "GROUP BY category\n",
    "ORDER BY avg_discount DESC;\"\"\"\n",
    "df=pd.read_sql(query,conn)\n",
    "conn.close()\n",
    "print(df)"
   ]
  },
  {
   "cell_type": "markdown",
   "id": "6fefe724",
   "metadata": {},
   "source": [
    "Top 10 products with highest discount"
   ]
  },
  {
   "cell_type": "code",
   "execution_count": 5,
   "id": "8426b92f",
   "metadata": {},
   "outputs": [
    {
     "name": "stdout",
     "output_type": "stream",
     "text": [
      "                                        product_name  discount_percentage\n",
      "0  rts [2 Pack] Mini USB C Type C Adapter Plug, T...                   94\n",
      "1  Fire-Boltt Ninja Call Pro Plus 1.83 Smart Watc...                   91\n",
      "2  Fire-Boltt Ninja Call Pro Plus 1.83 Smart Watc...                   91\n",
      "3  Fire-Boltt Ninja Call Pro Plus 1.83 Smart Watc...                   91\n",
      "4  Fire-Boltt Ninja Call Pro Plus 1.83 Smart Watc...                   91\n",
      "5  Fire-Boltt Ninja Call Pro Plus 1.83 Smart Watc...                   91\n",
      "6  Sounce Fast Phone Charging Cable & Data Sync U...                   90\n",
      "7  Sounce Spiral Charger Cable Protector Data Cab...                   90\n",
      "8  Sounce Protective Case Cover Compatible Boat X...                   90\n",
      "9  LAPSTER 12pcs Spiral Cable Protectors for Char...                   90\n"
     ]
    },
    {
     "name": "stderr",
     "output_type": "stream",
     "text": [
      "C:\\Users\\anshi\\AppData\\Local\\Temp\\ipykernel_184924\\844175167.py:6: UserWarning: pandas only supports SQLAlchemy connectable (engine/connection) or database string URI or sqlite3 DBAPI2 connection. Other DBAPI2 objects are not tested. Please consider using SQLAlchemy.\n",
      "  df=pd.read_sql(query,conn)\n"
     ]
    }
   ],
   "source": [
    "query=\"\"\"SELECT product_name, discount_percentage\n",
    "FROM amazon_sales\n",
    "ORDER BY CAST(discount_percentage AS FLOAT) DESC\n",
    "LIMIT 10;\n",
    "\"\"\"\n",
    "df=pd.read_sql(query,conn)\n",
    "conn.close()\n",
    "print(df)"
   ]
  },
  {
   "cell_type": "markdown",
   "id": "c63cb002",
   "metadata": {},
   "source": [
    "B. Ratings Analysis\n",
    "\n",
    "Average rating per category"
   ]
  },
  {
   "cell_type": "code",
   "execution_count": 6,
   "id": "e390b9ab",
   "metadata": {},
   "outputs": [
    {
     "name": "stdout",
     "output_type": "stream",
     "text": [
      "                                              category  avg_rating\n",
      "0                        Computers&Accessories|Tablets        4.60\n",
      "1    OfficeProducts|OfficeElectronics|Calculators|B...        4.50\n",
      "2    Home&Kitchen|Kitchen&HomeAppliances|SmallKitch...        4.50\n",
      "3     Electronics|Cameras&Photography|Accessories|Film        4.50\n",
      "4         Electronics|PowerAccessories|SurgeProtectors        4.50\n",
      "..                                                 ...         ...\n",
      "206  Electronics|HomeTheater,TV&Video|Accessories|3...        3.50\n",
      "207  Computers&Accessories|Accessories&Peripherals|...        3.50\n",
      "208  Home&Kitchen|Kitchen&HomeAppliances|Vacuum,Cle...        3.45\n",
      "209  Computers&Accessories|Accessories&Peripherals|...        3.40\n",
      "210  Home&Kitchen|Kitchen&HomeAppliances|Coffee,Tea...        3.30\n",
      "\n",
      "[211 rows x 2 columns]\n"
     ]
    },
    {
     "name": "stderr",
     "output_type": "stream",
     "text": [
      "C:\\Users\\anshi\\AppData\\Local\\Temp\\ipykernel_184924\\944299164.py:14: UserWarning: pandas only supports SQLAlchemy connectable (engine/connection) or database string URI or sqlite3 DBAPI2 connection. Other DBAPI2 objects are not tested. Please consider using SQLAlchemy.\n",
      "  df=pd.read_sql(query,conn)\n"
     ]
    }
   ],
   "source": [
    "import psycopg2\n",
    "import pandas as pd\n",
    "conn=psycopg2.connect(\n",
    "    host=\"localhost\",\n",
    "    database=\"Amazon\",\n",
    "    user=\"postgres\",\n",
    "    password=\"vit@123\"\n",
    ")\n",
    "query=\"\"\"SELECT category, AVG(CAST(rating AS FLOAT)) AS avg_rating\n",
    "FROM amazon_sales\n",
    "GROUP BY category\n",
    "ORDER BY avg_rating DESC;\n",
    "\"\"\"\n",
    "df=pd.read_sql(query,conn)\n",
    "conn.close()\n",
    "print(df)"
   ]
  },
  {
   "cell_type": "markdown",
   "id": "830b8e88",
   "metadata": {},
   "source": [
    "Top-rated products (with at least 50 reviews to avoid bias)"
   ]
  },
  {
   "cell_type": "code",
   "execution_count": 7,
   "id": "4e7ea54c",
   "metadata": {},
   "outputs": [
    {
     "name": "stdout",
     "output_type": "stream",
     "text": [
      "                                        product_name  rating  rating_count\n",
      "0  Instant Pot Air Fryer, Vortex 2QT, Touch Contr...     4.8          3964\n",
      "1  Swiffer Instant Electric Water Heater Faucet T...     4.8         53803\n",
      "2  FIGMENT Handheld Milk Frother Rechargeable, 3-...     4.7          1729\n",
      "3  Zuvexa USB Rechargeable Electric Foam Maker - ...     4.7            54\n",
      "4  Sony Bravia 164 cm (65 inches) 4K Ultra HD Sma...     4.7          5935\n",
      "5  Campfire Spring Chef Prolix Instant Portable W...     4.7          2591\n",
      "6  Multifunctional 2 in 1 Electric Egg Boiling St...     4.7          2300\n",
      "7  Spigen EZ Fit Tempered Glass Screen Protector ...     4.7          7779\n",
      "8  10k 8k 4k HDMI Cable, Certified 48Gbps 1ms Ult...     4.6          3664\n",
      "9  Logitech Pebble M350 Wireless Mouse with Bluet...     4.6         10652\n"
     ]
    },
    {
     "name": "stderr",
     "output_type": "stream",
     "text": [
      "C:\\Users\\anshi\\AppData\\Local\\Temp\\ipykernel_184924\\3807697154.py:15: UserWarning: pandas only supports SQLAlchemy connectable (engine/connection) or database string URI or sqlite3 DBAPI2 connection. Other DBAPI2 objects are not tested. Please consider using SQLAlchemy.\n",
      "  df=pd.read_sql(query,conn)\n"
     ]
    }
   ],
   "source": [
    "import psycopg2\n",
    "import pandas as pd\n",
    "conn=psycopg2.connect(\n",
    "    host=\"localhost\",\n",
    "    database=\"Amazon\",\n",
    "    user=\"postgres\",\n",
    "    password=\"vit@123\"\n",
    ")\n",
    "query=\"\"\"SELECT product_name, rating, rating_count\n",
    "FROM amazon_sales\n",
    "WHERE CAST(rating_count AS INT) >= 50\n",
    "ORDER BY CAST(rating AS FLOAT) DESC\n",
    "LIMIT 10;\n",
    "\"\"\"\n",
    "df=pd.read_sql(query,conn)\n",
    "conn.close()\n",
    "print(df)"
   ]
  },
  {
   "cell_type": "markdown",
   "id": "bcb3ec87",
   "metadata": {},
   "source": [
    "Distribution of ratings"
   ]
  },
  {
   "cell_type": "code",
   "execution_count": 8,
   "id": "390d1179",
   "metadata": {},
   "outputs": [
    {
     "name": "stdout",
     "output_type": "stream",
     "text": [
      "    rating  count\n",
      "0      5.0      3\n",
      "1      4.8      3\n",
      "2      4.7      6\n",
      "3      4.6     17\n",
      "4      4.5     75\n",
      "5      4.4    123\n",
      "6      4.3    230\n",
      "7      4.2    228\n",
      "8      4.1    244\n",
      "9      4.0    181\n",
      "10     3.9    123\n",
      "11     3.8     86\n",
      "12     3.7     42\n",
      "13     3.6     35\n",
      "14     3.5     26\n",
      "15     3.4     10\n",
      "16     3.3     16\n",
      "17     3.2      2\n",
      "18     3.1      4\n",
      "19     3.0      4\n",
      "20     2.9      1\n",
      "21     2.8      2\n",
      "22     2.6      1\n",
      "23     2.3      1\n",
      "24     2.0      1\n",
      "25     0.0      1\n"
     ]
    },
    {
     "name": "stderr",
     "output_type": "stream",
     "text": [
      "C:\\Users\\anshi\\AppData\\Local\\Temp\\ipykernel_184924\\1459963394.py:15: UserWarning: pandas only supports SQLAlchemy connectable (engine/connection) or database string URI or sqlite3 DBAPI2 connection. Other DBAPI2 objects are not tested. Please consider using SQLAlchemy.\n",
      "  df=pd.read_sql(query,conn)\n"
     ]
    }
   ],
   "source": [
    "import psycopg2\n",
    "import pandas as pd\n",
    "conn=psycopg2.connect(\n",
    "    host=\"localhost\",\n",
    "    database=\"Amazon\",\n",
    "    user=\"postgres\",\n",
    "    password=\"vit@123\"\n",
    ")\n",
    "query=\"\"\"SELECT rating, COUNT(*) AS count\n",
    "FROM amazon_sales\n",
    "GROUP BY rating\n",
    "ORDER BY rating DESC;\n",
    "\n",
    "\"\"\"\n",
    "df=pd.read_sql(query,conn)\n",
    "conn.close()\n",
    "print(df)"
   ]
  },
  {
   "cell_type": "markdown",
   "id": "f7579ffd",
   "metadata": {},
   "source": [
    "C. Popular Products\n",
    "\n",
    "Most reviewed products"
   ]
  },
  {
   "cell_type": "code",
   "execution_count": 9,
   "id": "efb02235",
   "metadata": {},
   "outputs": [
    {
     "name": "stdout",
     "output_type": "stream",
     "text": [
      "                                        product_name  rating_count\n",
      "0  AmazonBasics Flexible Premium HDMI Cable (Blac...        426973\n",
      "1  Amazon Basics High-Speed HDMI Cable, 6 Feet - ...        426973\n",
      "2  Amazon Basics High-Speed HDMI Cable, 6 Feet (2...        426973\n",
      "3  AmazonBasics Flexible Premium HDMI Cable (Blac...        426972\n",
      "4  boAt Bassheads 100 in Ear Wired Earphones with...        363713\n",
      "5  boAt Bassheads 100 in Ear Wired Earphones with...        363713\n",
      "6  boAt BassHeads 100 in-Ear Wired Headphones wit...        363711\n",
      "7  Redmi 9A Sport (Coral Green, 2GB RAM, 32GB Sto...        313836\n",
      "8  Redmi 9 Activ (Carbon Black, 4GB RAM, 64GB Sto...        313836\n",
      "9  Redmi 9A Sport (Carbon Black, 2GB RAM, 32GB St...        313832\n"
     ]
    },
    {
     "name": "stderr",
     "output_type": "stream",
     "text": [
      "C:\\Users\\anshi\\AppData\\Local\\Temp\\ipykernel_184924\\3795953780.py:14: UserWarning: pandas only supports SQLAlchemy connectable (engine/connection) or database string URI or sqlite3 DBAPI2 connection. Other DBAPI2 objects are not tested. Please consider using SQLAlchemy.\n",
      "  df=pd.read_sql(query,conn)\n"
     ]
    }
   ],
   "source": [
    "import psycopg2\n",
    "import pandas as pd\n",
    "conn=psycopg2.connect(\n",
    "    host=\"localhost\",\n",
    "    database=\"Amazon\",\n",
    "    user=\"postgres\",\n",
    "    password=\"vit@123\"\n",
    ")\n",
    "query=\"\"\"SELECT product_name, rating_count\n",
    "FROM amazon_sales\n",
    "ORDER BY CAST(rating_count AS INT) DESC\n",
    "LIMIT 10;\n",
    "\"\"\"\n",
    "df=pd.read_sql(query,conn)\n",
    "conn.close()\n",
    "print(df)"
   ]
  },
  {
   "cell_type": "markdown",
   "id": "ac85863b",
   "metadata": {},
   "source": [
    "Products with maximum revenue potential\n",
    "Assuming revenue = discounted_price × rating_count"
   ]
  },
  {
   "cell_type": "code",
   "execution_count": 10,
   "id": "0d967ede",
   "metadata": {},
   "outputs": [
    {
     "name": "stdout",
     "output_type": "stream",
     "text": [
      "                                        product_name  potential_revenue\n",
      "0  Redmi 9 Activ (Carbon Black, 4GB RAM, 64GB Sto...       2.667292e+09\n",
      "1  Redmi 9A Sport (Coral Green, 3GB RAM, 32GB Sto...       2.353426e+09\n",
      "2  Redmi 9A Sport (Coral Green, 2GB RAM, 32GB Sto...       2.039620e+09\n",
      "3  Redmi 9A Sport (Carbon Black, 2GB RAM, 32GB St...       2.039594e+09\n",
      "4  Redmi 126 cm (50 inches) 4K Ultra HD Android S...       1.492809e+09\n",
      "5  Redmi 108 cm (43 inches) 4K Ultra HD Android S...       1.221381e+09\n",
      "6  Samsung Galaxy S20 FE 5G (Cloud Navy, 8GB RAM,...       1.055742e+09\n",
      "7  MI 138.8 cm (55 inches) 5X Series 4K Ultra HD ...       9.988227e+08\n",
      "8  OnePlus 108 cm (43 inches) Y Series Full HD Sm...       8.724401e+08\n",
      "9  MI 108 cm (43 inches) 5A Series Full HD Smart ...       8.209672e+08\n"
     ]
    },
    {
     "name": "stderr",
     "output_type": "stream",
     "text": [
      "C:\\Users\\anshi\\AppData\\Local\\Temp\\ipykernel_184924\\3333319014.py:15: UserWarning: pandas only supports SQLAlchemy connectable (engine/connection) or database string URI or sqlite3 DBAPI2 connection. Other DBAPI2 objects are not tested. Please consider using SQLAlchemy.\n",
      "  df=pd.read_sql(query,conn)\n"
     ]
    }
   ],
   "source": [
    "import psycopg2\n",
    "import pandas as pd\n",
    "conn=psycopg2.connect(\n",
    "    host=\"localhost\",\n",
    "    database=\"Amazon\",\n",
    "    user=\"postgres\",\n",
    "    password=\"vit@123\"\n",
    ")\n",
    "query=\"\"\"SELECT product_name, \n",
    "       CAST(discounted_price AS FLOAT) * CAST(rating_count AS INT) AS potential_revenue\n",
    "FROM amazon_sales\n",
    "ORDER BY potential_revenue DESC\n",
    "LIMIT 10;\n",
    "\"\"\"\n",
    "df=pd.read_sql(query,conn)\n",
    "conn.close()\n",
    "print(df)"
   ]
  },
  {
   "cell_type": "markdown",
   "id": "98c7eb27",
   "metadata": {},
   "source": [
    "D. Category-level Insights\n",
    "\n",
    "Category-wise revenue potential"
   ]
  },
  {
   "cell_type": "code",
   "execution_count": 11,
   "id": "3d8e892a",
   "metadata": {},
   "outputs": [
    {
     "name": "stdout",
     "output_type": "stream",
     "text": [
      "                                              category  total_revenue\n",
      "0    Electronics|Mobiles&Accessories|Smartphones&Ba...   2.935870e+10\n",
      "1    Electronics|HomeTheater,TV&Video|Televisions|S...   1.740790e+10\n",
      "2          Electronics|WearableTechnology|SmartWatches   3.581338e+09\n",
      "3    Electronics|Headphones,Earbuds&Accessories|Hea...   3.072251e+09\n",
      "4    Computers&Accessories|Accessories&Peripherals|...   1.171594e+09\n",
      "..                                                 ...            ...\n",
      "206  Home&Kitchen|Kitchen&HomeAppliances|Coffee,Tea...   1.166320e+05\n",
      "207  Computers&Accessories|Components|InternalHardD...   7.203800e+04\n",
      "208  Electronics|Headphones,Earbuds&Accessories|Ear...   5.880600e+04\n",
      "209  OfficeProducts|OfficePaperProducts|Paper|Copy&...   3.841200e+04\n",
      "210  Electronics|Mobiles&Accessories|MobileAccessor...   3.019500e+04\n",
      "\n",
      "[211 rows x 2 columns]\n"
     ]
    },
    {
     "name": "stderr",
     "output_type": "stream",
     "text": [
      "C:\\Users\\anshi\\AppData\\Local\\Temp\\ipykernel_184924\\2878994383.py:15: UserWarning: pandas only supports SQLAlchemy connectable (engine/connection) or database string URI or sqlite3 DBAPI2 connection. Other DBAPI2 objects are not tested. Please consider using SQLAlchemy.\n",
      "  df=pd.read_sql(query,conn)\n"
     ]
    }
   ],
   "source": [
    "import psycopg2\n",
    "import pandas as pd\n",
    "conn=psycopg2.connect(\n",
    "    host=\"localhost\",\n",
    "    database=\"Amazon\",\n",
    "    user=\"postgres\",\n",
    "    password=\"vit@123\"\n",
    ")\n",
    "query=\"\"\"SELECT category, SUM(CAST(discounted_price AS FLOAT) * CAST(rating_count AS INT)) AS total_revenue\n",
    "FROM amazon_sales\n",
    "GROUP BY category\n",
    "ORDER BY total_revenue DESC;\n",
    "\n",
    "\"\"\"\n",
    "df=pd.read_sql(query,conn)\n",
    "conn.close()\n",
    "print(df)"
   ]
  },
  {
   "cell_type": "markdown",
   "id": "e5be5564",
   "metadata": {},
   "source": [
    "Category-wise average rating and reviews"
   ]
  },
  {
   "cell_type": "code",
   "execution_count": 13,
   "id": "c3b3fded",
   "metadata": {},
   "outputs": [
    {
     "name": "stdout",
     "output_type": "stream",
     "text": [
      "                                              category  avg_rating  \\\n",
      "0                        Computers&Accessories|Tablets        4.60   \n",
      "1    OfficeProducts|OfficeElectronics|Calculators|B...        4.50   \n",
      "2    Home&Kitchen|Kitchen&HomeAppliances|SmallKitch...        4.50   \n",
      "3     Electronics|Cameras&Photography|Accessories|Film        4.50   \n",
      "4         Electronics|PowerAccessories|SurgeProtectors        4.50   \n",
      "..                                                 ...         ...   \n",
      "206  Electronics|HomeTheater,TV&Video|Accessories|3...        3.50   \n",
      "207  Computers&Accessories|Accessories&Peripherals|...        3.50   \n",
      "208  Home&Kitchen|Kitchen&HomeAppliances|Vacuum,Cle...        3.45   \n",
      "209  Computers&Accessories|Accessories&Peripherals|...        3.40   \n",
      "210  Home&Kitchen|Kitchen&HomeAppliances|Coffee,Tea...        3.30   \n",
      "\n",
      "     avg_reviews  \n",
      "0       2886.000  \n",
      "1       8610.000  \n",
      "2       2280.000  \n",
      "3       4875.000  \n",
      "4      20668.000  \n",
      "..           ...  \n",
      "206      621.000  \n",
      "207     7222.000  \n",
      "208     2445.875  \n",
      "209    10462.500  \n",
      "210      478.000  \n",
      "\n",
      "[211 rows x 3 columns]\n"
     ]
    },
    {
     "name": "stderr",
     "output_type": "stream",
     "text": [
      "C:\\Users\\anshi\\AppData\\Local\\Temp\\ipykernel_184924\\3750658558.py:16: UserWarning: pandas only supports SQLAlchemy connectable (engine/connection) or database string URI or sqlite3 DBAPI2 connection. Other DBAPI2 objects are not tested. Please consider using SQLAlchemy.\n",
      "  df=pd.read_sql(query,conn)\n"
     ]
    }
   ],
   "source": [
    "import psycopg2\n",
    "import pandas as pd\n",
    "conn=psycopg2.connect(\n",
    "    host=\"localhost\",\n",
    "    database=\"Amazon\",\n",
    "    user=\"postgres\",\n",
    "    password=\"vit@123\"\n",
    ")\n",
    "query=\"\"\"SELECT category, \n",
    "       AVG(CAST(rating AS FLOAT)) AS avg_rating,\n",
    "       AVG(CAST(rating_count AS INT)) AS avg_reviews\n",
    "FROM amazon_sales\n",
    "GROUP BY category\n",
    "ORDER BY avg_rating DESC;\n",
    "\"\"\"\n",
    "df=pd.read_sql(query,conn)\n",
    "conn.close()\n",
    "print(df)"
   ]
  },
  {
   "cell_type": "markdown",
   "id": "a8ea8757",
   "metadata": {},
   "source": [
    "E. Review Analysis (more advanced)"
   ]
  },
  {
   "cell_type": "code",
   "execution_count": 12,
   "id": "6eaaf85c",
   "metadata": {},
   "outputs": [
    {
     "name": "stdout",
     "output_type": "stream",
     "text": [
      "                                        product_name  review_count\n",
      "0  Fire-Boltt Ninja Call Pro Plus 1.83 Smart Watc...             5\n",
      "1  Fire-Boltt Phoenix Smart Watch with Bluetooth ...             4\n",
      "2  boAt Micro USB 55 Tangle-free, Sturdy Micro US...             3\n",
      "3  Amazonbasics Nylon Braided Usb-C To Lightning ...             3\n",
      "4  Ambrane 2 in 1 Type-C & Micro USB Cable with 6...             3\n",
      "5  boAt Deuce USB 300 2 in 1 Type-C & Micro USB S...             3\n",
      "6  Ambrane 60W / 3A Fast Charging Output Cable wi...             3\n",
      "7  Amazon Basics USB Type-C to USB-A 2.0 Male Fas...             3\n",
      "8  AmazonBasics New Release Nylon USB-A to Lightn...             3\n",
      "9  Ambrane Unbreakable 60W / 3A Fast Charging 1.5...             3\n"
     ]
    },
    {
     "name": "stderr",
     "output_type": "stream",
     "text": [
      "C:\\Users\\anshi\\AppData\\Local\\Temp\\ipykernel_184924\\668348348.py:16: UserWarning: pandas only supports SQLAlchemy connectable (engine/connection) or database string URI or sqlite3 DBAPI2 connection. Other DBAPI2 objects are not tested. Please consider using SQLAlchemy.\n",
      "  df=pd.read_sql(query,conn)\n"
     ]
    }
   ],
   "source": [
    "import psycopg2\n",
    "import pandas as pd\n",
    "conn=psycopg2.connect(\n",
    "    host=\"localhost\",\n",
    "    database=\"Amazon\",\n",
    "    user=\"postgres\",\n",
    "    password=\"vit@123\"\n",
    ")\n",
    "query=\"\"\"SELECT product_name, COUNT(*) AS review_count\n",
    "FROM amazon_sales\n",
    "WHERE LOWER(review_content) LIKE '%good%'\n",
    "GROUP BY product_name\n",
    "ORDER BY review_count DESC\n",
    "LIMIT 10;\n",
    "\"\"\"\n",
    "df=pd.read_sql(query,conn)\n",
    "conn.close()\n",
    "print(df)"
   ]
  }
 ],
 "metadata": {
  "kernelspec": {
   "display_name": "Python 3",
   "language": "python",
   "name": "python3"
  },
  "language_info": {
   "codemirror_mode": {
    "name": "ipython",
    "version": 3
   },
   "file_extension": ".py",
   "mimetype": "text/x-python",
   "name": "python",
   "nbconvert_exporter": "python",
   "pygments_lexer": "ipython3",
   "version": "3.10.0"
  }
 },
 "nbformat": 4,
 "nbformat_minor": 5
}
